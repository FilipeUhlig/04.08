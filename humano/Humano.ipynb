{
 "cells": [
  {
   "cell_type": "code",
   "execution_count": 16,
   "id": "82b8055f",
   "metadata": {},
   "outputs": [],
   "source": [
    "# Criando uma classe\n",
    "\n",
    "class Humano:\n",
    "    def __init__ (self, peso, altura, idade, sexo, nome):\n",
    "        self.peso = peso\n",
    "        self.altura = altura\n",
    "        self.idade = idade\n",
    "        self.sexo = sexo\n",
    "        self.nome = nome\n",
    "        \n",
    "    def andar(self):\n",
    "        print(\"Eu estou andando!\")\n",
    "        \n",
    "        \n",
    "joao = Humano(10,0.9, 5, \"M\", \"João\")\n",
    "    "
   ]
  },
  {
   "cell_type": "code",
   "execution_count": 12,
   "id": "16c10889",
   "metadata": {},
   "outputs": [
    {
     "name": "stdout",
     "output_type": "stream",
     "text": [
      "10\n"
     ]
    }
   ],
   "source": [
    "print(joao.peso)"
   ]
  },
  {
   "cell_type": "code",
   "execution_count": 13,
   "id": "37ec698e",
   "metadata": {},
   "outputs": [
    {
     "name": "stdout",
     "output_type": "stream",
     "text": [
      "0.9\n"
     ]
    }
   ],
   "source": [
    "print(joao.altura)"
   ]
  },
  {
   "cell_type": "code",
   "execution_count": 18,
   "id": "a0e21b16",
   "metadata": {},
   "outputs": [
    {
     "name": "stdout",
     "output_type": "stream",
     "text": [
      "Eu estou andando!\n"
     ]
    }
   ],
   "source": [
    "joao.andar()"
   ]
  },
  {
   "cell_type": "code",
   "execution_count": 19,
   "id": "466ea120",
   "metadata": {},
   "outputs": [],
   "source": [
    "# Criando a classe ação\n",
    "\n",
    "\n",
    "class Acao:\n",
    "    def __init__(self, nome_empresa, codigo, valor_patrimonial, preco_mercado):\n",
    "        self.nome_empresa = nome_empresa\n",
    "        self.sigla = sigla\n",
    "        self.valor_patrimonial = valor_patrimonial\n",
    "        self.preco_mercado = preco_mercado\n",
    "        "
   ]
  },
  {
   "cell_type": "code",
   "execution_count": 21,
   "id": "3fff38d6",
   "metadata": {},
   "outputs": [],
   "source": [
    "class Investidor:\n",
    "    def __init__(self, cpf, saldo, carteira):\n",
    "        self.cpf = cpf\n",
    "        self.saldo = saldo\n",
    "        self.carteira = carteira\n",
    "        \n",
    "    def comprar_acao1(self, acao1, quantidade):\n",
    "        self.carteira[0] += quantidade"
   ]
  },
  {
   "cell_type": "code",
   "execution_count": 22,
   "id": "194af8c6",
   "metadata": {},
   "outputs": [],
   "source": [
    "class Carteira:\n",
    "    def __init__(self, lista_acao):\n",
    "        self.lista_acao = lista_acao"
   ]
  },
  {
   "cell_type": "code",
   "execution_count": 23,
   "id": "d3aa04ed",
   "metadata": {},
   "outputs": [],
   "source": [
    "class Empregado:\n",
    "    def __init__ (self, cpf, nome):\n",
    "        self.cpf = cpf\n",
    "        self.nome = nome\n",
    "        \n",
    "    def trabalhar(self):\n",
    "        print(\"Estou trabalhando!\")"
   ]
  },
  {
   "cell_type": "code",
   "execution_count": 24,
   "id": "d2b7bdb5",
   "metadata": {},
   "outputs": [],
   "source": [
    "class Gerente(Empregado):\n",
    "    def __init__(self, cpf, nome, nivel):\n",
    "        super.__init__ = (cpf, nome)\n",
    "        self.nivel = nivel\n",
    "        \n",
    "    def trabalhar(self):\n",
    "        print(\"Estou coordenando!\")"
   ]
  },
  {
   "cell_type": "code",
   "execution_count": 25,
   "id": "4d2cd7a0",
   "metadata": {},
   "outputs": [],
   "source": [
    "class Analisando(Empregado):\n",
    "    def __init__(self, cpf, nome, nivel):\n",
    "        super.__init__ = (cpf, nome)\n",
    "        self.nivel = nivel\n",
    "        \n",
    "    def trabalhar(self):\n",
    "        print(\"Estou analisando!\")"
   ]
  },
  {
   "cell_type": "code",
   "execution_count": 26,
   "id": "c9833c58",
   "metadata": {},
   "outputs": [],
   "source": [
    "pedro = Empregado(123, \"Pedro\")"
   ]
  },
  {
   "cell_type": "code",
   "execution_count": 27,
   "id": "f36ff574",
   "metadata": {},
   "outputs": [
    {
     "name": "stdout",
     "output_type": "stream",
     "text": [
      "Estou trabalhando!\n"
     ]
    }
   ],
   "source": [
    "pedro.trabalhar()"
   ]
  },
  {
   "cell_type": "code",
   "execution_count": 33,
   "id": "e2cacf79",
   "metadata": {},
   "outputs": [],
   "source": [
    "filipe = Empregado(456, \"Filipe\")"
   ]
  },
  {
   "cell_type": "code",
   "execution_count": 37,
   "id": "a95b45cd",
   "metadata": {},
   "outputs": [
    {
     "ename": "TypeError",
     "evalue": "Gerente.__init__() missing 2 required positional arguments: 'nome' and 'nivel'",
     "output_type": "error",
     "traceback": [
      "\u001b[1;31m---------------------------------------------------------------------------\u001b[0m",
      "\u001b[1;31mTypeError\u001b[0m                                 Traceback (most recent call last)",
      "Cell \u001b[1;32mIn[37], line 1\u001b[0m\n\u001b[1;32m----> 1\u001b[0m filipe \u001b[38;5;241m=\u001b[39m \u001b[43mGerente\u001b[49m\u001b[43m(\u001b[49m\u001b[38;5;124;43m\"\u001b[39;49m\u001b[38;5;124;43mGerente\u001b[39;49m\u001b[38;5;124;43m\"\u001b[39;49m\u001b[43m)\u001b[49m\n",
      "\u001b[1;31mTypeError\u001b[0m: Gerente.__init__() missing 2 required positional arguments: 'nome' and 'nivel'"
     ]
    }
   ],
   "source": [
    "filipe = Gerente(\"Gerente\")"
   ]
  },
  {
   "cell_type": "code",
   "execution_count": null,
   "id": "08cf1980",
   "metadata": {},
   "outputs": [],
   "source": []
  }
 ],
 "metadata": {
  "kernelspec": {
   "display_name": "Python 3 (ipykernel)",
   "language": "python",
   "name": "python3"
  },
  "language_info": {
   "codemirror_mode": {
    "name": "ipython",
    "version": 3
   },
   "file_extension": ".py",
   "mimetype": "text/x-python",
   "name": "python",
   "nbconvert_exporter": "python",
   "pygments_lexer": "ipython3",
   "version": "3.10.9"
  }
 },
 "nbformat": 4,
 "nbformat_minor": 5
}
